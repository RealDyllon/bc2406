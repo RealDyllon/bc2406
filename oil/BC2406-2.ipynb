{
 "cells": [
  {
   "cell_type": "markdown",
   "metadata": {
    "id": "9fgOzXxjH_iw"
   },
   "source": [
    "# BC2406 Project\n",
    "\n",
    "3 types:\n",
    "* lin reg\n",
    "* logistic reg\n",
    "* CART (dec tree)"
   ]
  },
  {
   "cell_type": "markdown",
   "metadata": {},
   "source": []
  },
  {
   "cell_type": "code",
   "execution_count": null,
   "metadata": {},
   "outputs": [],
   "source": [
    "%pip install pandas\n"
   ]
  },
  {
   "cell_type": "code",
   "execution_count": 21,
   "metadata": {},
   "outputs": [],
   "source": [
    "import pandas as pd\n",
    "import glob\n",
    "import os\n",
    "from sklearn.linear_model import LogisticRegression\n",
    "from sklearn.metrics import accuracy_score\n",
    "from sklearn.metrics import confusion_matrix\n",
    "from sklearn.metrics import classification_report\n",
    "import numpy as np\n",
    "from sklearn.preprocessing import LabelEncoder"
   ]
  },
  {
   "cell_type": "markdown",
   "metadata": {},
   "source": [
    "## Dataset 3"
   ]
  },
  {
   "cell_type": "markdown",
   "metadata": {},
   "source": [
    "### Data Handling"
   ]
  },
  {
   "cell_type": "code",
   "execution_count": null,
   "metadata": {},
   "outputs": [],
   "source": [
    "\n",
    "# rest of the code\n",
    "\n",
    "#import csv files\n",
    "# print(csv_files)\n",
    "path=os.path.join(os.getcwd(),'data','3')\n",
    "csv_files=glob.glob(path + \"/*.csv\")\n",
    "\n",
    "#remove BC2406.ipynb from csv_files\n",
    "# csv_files.remove('BC2406.ipynb')\n",
    "\n",
    "# remove all files whose file name (not path) starts with SIMULATED\n",
    "csv_files=[csv_file for csv_file in csv_files if not os.path.basename(csv_file).startswith('SIMULATED')]\n",
    "\n",
    "dataframes={}\n",
    "\n",
    "print(csv_files)\n",
    "for csv_file in csv_files:\n",
    "  # print(csv_file)\n",
    "  well_name=os.path.splitext(csv_file)[0]\n",
    "  # print(\"file path\")\n",
    "  # print(os.path.join(csv_directory,csv_file))\n",
    "  df=pd.read_csv(csv_file)\n",
    "  dataframes[well_name]=df\n",
    "\n",
    "for well_name,df in dataframes.items():\n",
    "  df.insert(0,'name',well_name.split('_')[0].split('/')[-1])\n",
    "  df.insert(1,'id',well_name.split('_')[1])\n",
    "\n",
    "df=pd.concat(dataframes.values(),ignore_index=True)\n",
    "\n",
    "distinct_wells=df['name'].unique()\n",
    "for name in distinct_wells:\n",
    "  print(name)\n",
    "\n",
    "df"
   ]
  },
  {
   "cell_type": "code",
   "execution_count": null,
   "metadata": {},
   "outputs": [],
   "source": [
    "# show all values in column class\n",
    "print(df['class'].unique())\n",
    "\n",
    "#count number of 0, 3 in class label\n",
    "print(\"count of 0 in class label: \",len(df[df['class']==0])) # normal state\n",
    "print(\"count of 3 in class label: \",len(df[df['class']==3]))  # warning state"
   ]
  },
  {
   "cell_type": "code",
   "execution_count": null,
   "metadata": {},
   "outputs": [],
   "source": [
    "df.dropna()\n",
    "#clean dataset to remove name, id, timestamp\n",
    "df=df.drop(['name','id','timestamp'],axis=1)\n",
    "\n",
    "df=df.fillna(0)\n",
    "\n"
   ]
  },
  {
   "cell_type": "code",
   "execution_count": null,
   "metadata": {},
   "outputs": [],
   "source": [
    "#split dataset into train and test\n",
    "from sklearn.model_selection import train_test_split\n",
    "X=df.drop(['class'],axis=1)\n",
    "y=df['class']\n",
    "X_train,X_test,y_train,y_test=train_test_split(X,y,test_size=0.2,random_state=42)"
   ]
  },
  {
   "cell_type": "markdown",
   "metadata": {},
   "source": [
    "### Generate Models"
   ]
  },
  {
   "cell_type": "markdown",
   "metadata": {},
   "source": [
    "#### Logistic Regression"
   ]
  },
  {
   "cell_type": "code",
   "execution_count": null,
   "metadata": {},
   "outputs": [],
   "source": [
    "# #train logistic regression model on training set against class label\n",
    "\n",
    "\n",
    "# #train model on training set\n",
    "# log_reg=LogisticRegression(max_iter=1000)\n",
    "# log_reg.fit(X_train,y_train)\n",
    "\n",
    "# #predict class label on training set\n",
    "# logreg_train_set_predictions=log_reg.predict(X_train)\n",
    "\n",
    "# #test model on test set\n",
    "# logreg_test_set_predictions=log_reg.predict(X_test)\n",
    "# log_accuracy=accuracy_score(y_test,logreg_test_set_predictions)\n",
    "# log_confusion_matrix=confusion_matrix(y_test,logreg_test_set_predictions)\n",
    "# log_classification_report=classification_report(y_test,logreg_test_set_predictions)\n",
    "\n",
    "\n"
   ]
  },
  {
   "cell_type": "markdown",
   "metadata": {},
   "source": []
  },
  {
   "cell_type": "markdown",
   "metadata": {},
   "source": [
    "## Dataset 5 (Rapid Productivity Loss)"
   ]
  },
  {
   "cell_type": "markdown",
   "metadata": {},
   "source": [
    "### Data Handling"
   ]
  },
  {
   "cell_type": "code",
   "execution_count": 65,
   "metadata": {
    "ExecuteTime": {
     "end_time": "2023-09-22T04:50:25.384500Z",
     "start_time": "2023-09-22T04:50:25.335250Z"
    },
    "colab": {
     "base_uri": "https://localhost:8080/",
     "height": 667
    },
    "id": "pHKtXRpNq5LX",
    "outputId": "aeadf773-ad99-4bee-eb0a-38efafe4814a"
   },
   "outputs": [
    {
     "name": "stdout",
     "output_type": "stream",
     "text": [
      "['/Users/dyllon/Library/Mobile Documents/com~apple~CloudDocs/Uni/BC2406/oil/data/5/WELL-00015_20171013140047.csv', '/Users/dyllon/Library/Mobile Documents/com~apple~CloudDocs/Uni/BC2406/oil/data/5/WELL-00016_20180517222322.csv', '/Users/dyllon/Library/Mobile Documents/com~apple~CloudDocs/Uni/BC2406/oil/data/5/WELL-00017_20140319141450.csv', '/Users/dyllon/Library/Mobile Documents/com~apple~CloudDocs/Uni/BC2406/oil/data/5/WELL-00016_20180405020345.csv', '/Users/dyllon/Library/Mobile Documents/com~apple~CloudDocs/Uni/BC2406/oil/data/5/WELL-00016_20180426142005.csv', '/Users/dyllon/Library/Mobile Documents/com~apple~CloudDocs/Uni/BC2406/oil/data/5/WELL-00017_20140318160220.csv', '/Users/dyllon/Library/Mobile Documents/com~apple~CloudDocs/Uni/BC2406/oil/data/5/WELL-00015_20170620160349.csv', '/Users/dyllon/Library/Mobile Documents/com~apple~CloudDocs/Uni/BC2406/oil/data/5/WELL-00017_20140314180000.csv', '/Users/dyllon/Library/Mobile Documents/com~apple~CloudDocs/Uni/BC2406/oil/data/5/WELL-00017_20140318023141.csv', '/Users/dyllon/Library/Mobile Documents/com~apple~CloudDocs/Uni/BC2406/oil/data/5/WELL-00017_20140317151743.csv', '/Users/dyllon/Library/Mobile Documents/com~apple~CloudDocs/Uni/BC2406/oil/data/5/WELL-00017_20140319040453.csv', '/Users/dyllon/Library/Mobile Documents/com~apple~CloudDocs/Uni/BC2406/oil/data/5/WELL-00016_20180426145108.csv']\n"
     ]
    },
    {
     "name": "stdout",
     "output_type": "stream",
     "text": [
      "/Users/dyllon/Library/Mobile Documents/com~apple~CloudDocs/Uni/BC2406/oil/data/5/WELL-00015\n",
      "/Users/dyllon/Library/Mobile Documents/com~apple~CloudDocs/Uni/BC2406/oil/data/5/WELL-00016\n",
      "/Users/dyllon/Library/Mobile Documents/com~apple~CloudDocs/Uni/BC2406/oil/data/5/WELL-00017\n"
     ]
    },
    {
     "data": {
      "text/html": [
       "<div>\n",
       "<style scoped>\n",
       "    .dataframe tbody tr th:only-of-type {\n",
       "        vertical-align: middle;\n",
       "    }\n",
       "\n",
       "    .dataframe tbody tr th {\n",
       "        vertical-align: top;\n",
       "    }\n",
       "\n",
       "    .dataframe thead th {\n",
       "        text-align: right;\n",
       "    }\n",
       "</style>\n",
       "<table border=\"1\" class=\"dataframe\">\n",
       "  <thead>\n",
       "    <tr style=\"text-align: right;\">\n",
       "      <th></th>\n",
       "      <th>name</th>\n",
       "      <th>id</th>\n",
       "      <th>timestamp</th>\n",
       "      <th>P-PDG</th>\n",
       "      <th>P-TPT</th>\n",
       "      <th>T-TPT</th>\n",
       "      <th>P-MON-CKP</th>\n",
       "      <th>T-JUS-CKP</th>\n",
       "      <th>P-JUS-CKGL</th>\n",
       "      <th>T-JUS-CKGL</th>\n",
       "      <th>QGL</th>\n",
       "      <th>class</th>\n",
       "    </tr>\n",
       "  </thead>\n",
       "  <tbody>\n",
       "    <tr>\n",
       "      <th>0</th>\n",
       "      <td>/Users/dyllon/Library/Mobile Documents/com~app...</td>\n",
       "      <td>20171013140047</td>\n",
       "      <td>2017-10-13 14:00:47.000000</td>\n",
       "      <td>23639730.0</td>\n",
       "      <td>0.0</td>\n",
       "      <td>0.00000</td>\n",
       "      <td>3509006.0</td>\n",
       "      <td>42.35576</td>\n",
       "      <td>19960610.0</td>\n",
       "      <td>NaN</td>\n",
       "      <td>1.288151</td>\n",
       "      <td>0.0</td>\n",
       "    </tr>\n",
       "    <tr>\n",
       "      <th>1</th>\n",
       "      <td>/Users/dyllon/Library/Mobile Documents/com~app...</td>\n",
       "      <td>20171013140047</td>\n",
       "      <td>2017-10-13 14:00:48.000000</td>\n",
       "      <td>23640270.0</td>\n",
       "      <td>0.0</td>\n",
       "      <td>0.00000</td>\n",
       "      <td>3483324.0</td>\n",
       "      <td>42.35957</td>\n",
       "      <td>19978070.0</td>\n",
       "      <td>NaN</td>\n",
       "      <td>1.291373</td>\n",
       "      <td>0.0</td>\n",
       "    </tr>\n",
       "    <tr>\n",
       "      <th>2</th>\n",
       "      <td>/Users/dyllon/Library/Mobile Documents/com~app...</td>\n",
       "      <td>20171013140047</td>\n",
       "      <td>2017-10-13 14:00:49.000000</td>\n",
       "      <td>23640810.0</td>\n",
       "      <td>0.0</td>\n",
       "      <td>0.00000</td>\n",
       "      <td>3449990.0</td>\n",
       "      <td>42.36337</td>\n",
       "      <td>19995540.0</td>\n",
       "      <td>NaN</td>\n",
       "      <td>1.294595</td>\n",
       "      <td>0.0</td>\n",
       "    </tr>\n",
       "    <tr>\n",
       "      <th>3</th>\n",
       "      <td>/Users/dyllon/Library/Mobile Documents/com~app...</td>\n",
       "      <td>20171013140047</td>\n",
       "      <td>2017-10-13 14:00:50.000000</td>\n",
       "      <td>23641350.0</td>\n",
       "      <td>0.0</td>\n",
       "      <td>0.00000</td>\n",
       "      <td>3416657.0</td>\n",
       "      <td>42.36717</td>\n",
       "      <td>20013010.0</td>\n",
       "      <td>NaN</td>\n",
       "      <td>1.297816</td>\n",
       "      <td>0.0</td>\n",
       "    </tr>\n",
       "    <tr>\n",
       "      <th>4</th>\n",
       "      <td>/Users/dyllon/Library/Mobile Documents/com~app...</td>\n",
       "      <td>20171013140047</td>\n",
       "      <td>2017-10-13 14:00:51.000000</td>\n",
       "      <td>23641890.0</td>\n",
       "      <td>0.0</td>\n",
       "      <td>0.00000</td>\n",
       "      <td>3383324.0</td>\n",
       "      <td>42.37098</td>\n",
       "      <td>20030480.0</td>\n",
       "      <td>NaN</td>\n",
       "      <td>1.302506</td>\n",
       "      <td>0.0</td>\n",
       "    </tr>\n",
       "    <tr>\n",
       "      <th>...</th>\n",
       "      <td>...</td>\n",
       "      <td>...</td>\n",
       "      <td>...</td>\n",
       "      <td>...</td>\n",
       "      <td>...</td>\n",
       "      <td>...</td>\n",
       "      <td>...</td>\n",
       "      <td>...</td>\n",
       "      <td>...</td>\n",
       "      <td>...</td>\n",
       "      <td>...</td>\n",
       "      <td>...</td>\n",
       "    </tr>\n",
       "    <tr>\n",
       "      <th>361993</th>\n",
       "      <td>/Users/dyllon/Library/Mobile Documents/com~app...</td>\n",
       "      <td>20180426145108</td>\n",
       "      <td>2018-04-26 15:44:16.000000</td>\n",
       "      <td>24660500.0</td>\n",
       "      <td>11091050.0</td>\n",
       "      <td>16.99739</td>\n",
       "      <td>845799.3</td>\n",
       "      <td>50.32685</td>\n",
       "      <td>18913280.0</td>\n",
       "      <td>NaN</td>\n",
       "      <td>1.766007</td>\n",
       "      <td>5.0</td>\n",
       "    </tr>\n",
       "    <tr>\n",
       "      <th>361994</th>\n",
       "      <td>/Users/dyllon/Library/Mobile Documents/com~app...</td>\n",
       "      <td>20180426145108</td>\n",
       "      <td>2018-04-26 15:44:17.000000</td>\n",
       "      <td>24660460.0</td>\n",
       "      <td>11091230.0</td>\n",
       "      <td>16.99959</td>\n",
       "      <td>845819.6</td>\n",
       "      <td>50.32632</td>\n",
       "      <td>18913740.0</td>\n",
       "      <td>NaN</td>\n",
       "      <td>1.736611</td>\n",
       "      <td>5.0</td>\n",
       "    </tr>\n",
       "    <tr>\n",
       "      <th>361995</th>\n",
       "      <td>/Users/dyllon/Library/Mobile Documents/com~app...</td>\n",
       "      <td>20180426145108</td>\n",
       "      <td>2018-04-26 15:44:18.000000</td>\n",
       "      <td>24660420.0</td>\n",
       "      <td>11091420.0</td>\n",
       "      <td>17.00179</td>\n",
       "      <td>845840.0</td>\n",
       "      <td>50.32579</td>\n",
       "      <td>18914190.0</td>\n",
       "      <td>NaN</td>\n",
       "      <td>1.707214</td>\n",
       "      <td>5.0</td>\n",
       "    </tr>\n",
       "    <tr>\n",
       "      <th>361996</th>\n",
       "      <td>/Users/dyllon/Library/Mobile Documents/com~app...</td>\n",
       "      <td>20180426145108</td>\n",
       "      <td>2018-04-26 15:44:19.000000</td>\n",
       "      <td>24660380.0</td>\n",
       "      <td>11091610.0</td>\n",
       "      <td>17.00399</td>\n",
       "      <td>845860.3</td>\n",
       "      <td>50.32526</td>\n",
       "      <td>18914650.0</td>\n",
       "      <td>NaN</td>\n",
       "      <td>1.677818</td>\n",
       "      <td>5.0</td>\n",
       "    </tr>\n",
       "    <tr>\n",
       "      <th>361997</th>\n",
       "      <td>/Users/dyllon/Library/Mobile Documents/com~app...</td>\n",
       "      <td>20180426145108</td>\n",
       "      <td>2018-04-26 15:44:20.000000</td>\n",
       "      <td>24660340.0</td>\n",
       "      <td>11091800.0</td>\n",
       "      <td>17.00619</td>\n",
       "      <td>845880.7</td>\n",
       "      <td>50.32472</td>\n",
       "      <td>18915110.0</td>\n",
       "      <td>NaN</td>\n",
       "      <td>1.648421</td>\n",
       "      <td>5.0</td>\n",
       "    </tr>\n",
       "  </tbody>\n",
       "</table>\n",
       "<p>361998 rows × 12 columns</p>\n",
       "</div>"
      ],
      "text/plain": [
       "                                                     name              id  \\\n",
       "0       /Users/dyllon/Library/Mobile Documents/com~app...  20171013140047   \n",
       "1       /Users/dyllon/Library/Mobile Documents/com~app...  20171013140047   \n",
       "2       /Users/dyllon/Library/Mobile Documents/com~app...  20171013140047   \n",
       "3       /Users/dyllon/Library/Mobile Documents/com~app...  20171013140047   \n",
       "4       /Users/dyllon/Library/Mobile Documents/com~app...  20171013140047   \n",
       "...                                                   ...             ...   \n",
       "361993  /Users/dyllon/Library/Mobile Documents/com~app...  20180426145108   \n",
       "361994  /Users/dyllon/Library/Mobile Documents/com~app...  20180426145108   \n",
       "361995  /Users/dyllon/Library/Mobile Documents/com~app...  20180426145108   \n",
       "361996  /Users/dyllon/Library/Mobile Documents/com~app...  20180426145108   \n",
       "361997  /Users/dyllon/Library/Mobile Documents/com~app...  20180426145108   \n",
       "\n",
       "                         timestamp       P-PDG       P-TPT     T-TPT  \\\n",
       "0       2017-10-13 14:00:47.000000  23639730.0         0.0   0.00000   \n",
       "1       2017-10-13 14:00:48.000000  23640270.0         0.0   0.00000   \n",
       "2       2017-10-13 14:00:49.000000  23640810.0         0.0   0.00000   \n",
       "3       2017-10-13 14:00:50.000000  23641350.0         0.0   0.00000   \n",
       "4       2017-10-13 14:00:51.000000  23641890.0         0.0   0.00000   \n",
       "...                            ...         ...         ...       ...   \n",
       "361993  2018-04-26 15:44:16.000000  24660500.0  11091050.0  16.99739   \n",
       "361994  2018-04-26 15:44:17.000000  24660460.0  11091230.0  16.99959   \n",
       "361995  2018-04-26 15:44:18.000000  24660420.0  11091420.0  17.00179   \n",
       "361996  2018-04-26 15:44:19.000000  24660380.0  11091610.0  17.00399   \n",
       "361997  2018-04-26 15:44:20.000000  24660340.0  11091800.0  17.00619   \n",
       "\n",
       "        P-MON-CKP  T-JUS-CKP  P-JUS-CKGL  T-JUS-CKGL       QGL  class  \n",
       "0       3509006.0   42.35576  19960610.0         NaN  1.288151    0.0  \n",
       "1       3483324.0   42.35957  19978070.0         NaN  1.291373    0.0  \n",
       "2       3449990.0   42.36337  19995540.0         NaN  1.294595    0.0  \n",
       "3       3416657.0   42.36717  20013010.0         NaN  1.297816    0.0  \n",
       "4       3383324.0   42.37098  20030480.0         NaN  1.302506    0.0  \n",
       "...           ...        ...         ...         ...       ...    ...  \n",
       "361993   845799.3   50.32685  18913280.0         NaN  1.766007    5.0  \n",
       "361994   845819.6   50.32632  18913740.0         NaN  1.736611    5.0  \n",
       "361995   845840.0   50.32579  18914190.0         NaN  1.707214    5.0  \n",
       "361996   845860.3   50.32526  18914650.0         NaN  1.677818    5.0  \n",
       "361997   845880.7   50.32472  18915110.0         NaN  1.648421    5.0  \n",
       "\n",
       "[361998 rows x 12 columns]"
      ]
     },
     "execution_count": 65,
     "metadata": {},
     "output_type": "execute_result"
    }
   ],
   "source": [
    "import glob\n",
    "import os\n",
    "import pandas as pd\n",
    "\n",
    "#import csv files\n",
    "# print(csv_files)\n",
    "path=os.path.join(os.getcwd(),'data','5')\n",
    "csv_files=glob.glob(path + \"/*.csv\")\n",
    "\n",
    "#remove BC2406.ipynb from csv_files\n",
    "# csv_files.remove('BC2406.ipynb')\n",
    "\n",
    "dataframes={}\n",
    "\n",
    "print(csv_files)\n",
    "for csv_file in csv_files:\n",
    "  # print(csv_file)\n",
    "  well_name=os.path.splitext(csv_file)[0]\n",
    "  # print(\"file path\")\n",
    "  # print(os.path.join(csv_directory,csv_file))\n",
    "  df=pd.read_csv(csv_file)\n",
    "  dataframes[well_name]=df\n",
    "\n",
    "for well_name,df in dataframes.items():\n",
    "  df.insert(0,'name',well_name.split('_')[0])\n",
    "  df.insert(1,'id',well_name.split('_')[1])\n",
    "\n",
    "df=pd.concat(dataframes.values(),ignore_index=True)\n",
    "\n",
    "distinct_wells=df['name'].unique()\n",
    "for name in distinct_wells:\n",
    "  print(name)\n",
    "\n",
    "df\n",
    "\n",
    "\n",
    "\n"
   ]
  },
  {
   "cell_type": "code",
   "execution_count": 66,
   "metadata": {
    "colab": {
     "base_uri": "https://localhost:8080/",
     "height": 206
    },
    "id": "Yh4MOPXnycvE",
    "outputId": "b8d4d1e1-ab7b-4018-fa87-1768072034c8"
   },
   "outputs": [
    {
     "data": {
      "text/html": [
       "<div>\n",
       "<style scoped>\n",
       "    .dataframe tbody tr th:only-of-type {\n",
       "        vertical-align: middle;\n",
       "    }\n",
       "\n",
       "    .dataframe tbody tr th {\n",
       "        vertical-align: top;\n",
       "    }\n",
       "\n",
       "    .dataframe thead th {\n",
       "        text-align: right;\n",
       "    }\n",
       "</style>\n",
       "<table border=\"1\" class=\"dataframe\">\n",
       "  <thead>\n",
       "    <tr style=\"text-align: right;\">\n",
       "      <th></th>\n",
       "      <th>name</th>\n",
       "      <th>id</th>\n",
       "      <th>timestamp</th>\n",
       "      <th>P-PDG</th>\n",
       "      <th>P-TPT</th>\n",
       "      <th>T-TPT</th>\n",
       "      <th>P-MON-CKP</th>\n",
       "      <th>T-JUS-CKP</th>\n",
       "      <th>P-JUS-CKGL</th>\n",
       "      <th>T-JUS-CKGL</th>\n",
       "      <th>QGL</th>\n",
       "      <th>class</th>\n",
       "    </tr>\n",
       "  </thead>\n",
       "  <tbody>\n",
       "    <tr>\n",
       "      <th>0</th>\n",
       "      <td>/Users/dyllon/Library/Mobile Documents/com~app...</td>\n",
       "      <td>20171013140047</td>\n",
       "      <td>2017-10-13 14:00:47.000000</td>\n",
       "      <td>23639730.0</td>\n",
       "      <td>0.0</td>\n",
       "      <td>0.0</td>\n",
       "      <td>3509006.0</td>\n",
       "      <td>42.35576</td>\n",
       "      <td>19960610.0</td>\n",
       "      <td>NaN</td>\n",
       "      <td>1.288151</td>\n",
       "      <td>0.0</td>\n",
       "    </tr>\n",
       "    <tr>\n",
       "      <th>1</th>\n",
       "      <td>/Users/dyllon/Library/Mobile Documents/com~app...</td>\n",
       "      <td>20171013140047</td>\n",
       "      <td>2017-10-13 14:00:48.000000</td>\n",
       "      <td>23640270.0</td>\n",
       "      <td>0.0</td>\n",
       "      <td>0.0</td>\n",
       "      <td>3483324.0</td>\n",
       "      <td>42.35957</td>\n",
       "      <td>19978070.0</td>\n",
       "      <td>NaN</td>\n",
       "      <td>1.291373</td>\n",
       "      <td>0.0</td>\n",
       "    </tr>\n",
       "    <tr>\n",
       "      <th>2</th>\n",
       "      <td>/Users/dyllon/Library/Mobile Documents/com~app...</td>\n",
       "      <td>20171013140047</td>\n",
       "      <td>2017-10-13 14:00:49.000000</td>\n",
       "      <td>23640810.0</td>\n",
       "      <td>0.0</td>\n",
       "      <td>0.0</td>\n",
       "      <td>3449990.0</td>\n",
       "      <td>42.36337</td>\n",
       "      <td>19995540.0</td>\n",
       "      <td>NaN</td>\n",
       "      <td>1.294595</td>\n",
       "      <td>0.0</td>\n",
       "    </tr>\n",
       "    <tr>\n",
       "      <th>3</th>\n",
       "      <td>/Users/dyllon/Library/Mobile Documents/com~app...</td>\n",
       "      <td>20171013140047</td>\n",
       "      <td>2017-10-13 14:00:50.000000</td>\n",
       "      <td>23641350.0</td>\n",
       "      <td>0.0</td>\n",
       "      <td>0.0</td>\n",
       "      <td>3416657.0</td>\n",
       "      <td>42.36717</td>\n",
       "      <td>20013010.0</td>\n",
       "      <td>NaN</td>\n",
       "      <td>1.297816</td>\n",
       "      <td>0.0</td>\n",
       "    </tr>\n",
       "    <tr>\n",
       "      <th>4</th>\n",
       "      <td>/Users/dyllon/Library/Mobile Documents/com~app...</td>\n",
       "      <td>20171013140047</td>\n",
       "      <td>2017-10-13 14:00:51.000000</td>\n",
       "      <td>23641890.0</td>\n",
       "      <td>0.0</td>\n",
       "      <td>0.0</td>\n",
       "      <td>3383324.0</td>\n",
       "      <td>42.37098</td>\n",
       "      <td>20030480.0</td>\n",
       "      <td>NaN</td>\n",
       "      <td>1.302506</td>\n",
       "      <td>0.0</td>\n",
       "    </tr>\n",
       "  </tbody>\n",
       "</table>\n",
       "</div>"
      ],
      "text/plain": [
       "                                                name              id  \\\n",
       "0  /Users/dyllon/Library/Mobile Documents/com~app...  20171013140047   \n",
       "1  /Users/dyllon/Library/Mobile Documents/com~app...  20171013140047   \n",
       "2  /Users/dyllon/Library/Mobile Documents/com~app...  20171013140047   \n",
       "3  /Users/dyllon/Library/Mobile Documents/com~app...  20171013140047   \n",
       "4  /Users/dyllon/Library/Mobile Documents/com~app...  20171013140047   \n",
       "\n",
       "                    timestamp       P-PDG  P-TPT  T-TPT  P-MON-CKP  T-JUS-CKP  \\\n",
       "0  2017-10-13 14:00:47.000000  23639730.0    0.0    0.0  3509006.0   42.35576   \n",
       "1  2017-10-13 14:00:48.000000  23640270.0    0.0    0.0  3483324.0   42.35957   \n",
       "2  2017-10-13 14:00:49.000000  23640810.0    0.0    0.0  3449990.0   42.36337   \n",
       "3  2017-10-13 14:00:50.000000  23641350.0    0.0    0.0  3416657.0   42.36717   \n",
       "4  2017-10-13 14:00:51.000000  23641890.0    0.0    0.0  3383324.0   42.37098   \n",
       "\n",
       "   P-JUS-CKGL  T-JUS-CKGL       QGL  class  \n",
       "0  19960610.0         NaN  1.288151    0.0  \n",
       "1  19978070.0         NaN  1.291373    0.0  \n",
       "2  19995540.0         NaN  1.294595    0.0  \n",
       "3  20013010.0         NaN  1.297816    0.0  \n",
       "4  20030480.0         NaN  1.302506    0.0  "
      ]
     },
     "execution_count": 66,
     "metadata": {},
     "output_type": "execute_result"
    }
   ],
   "source": [
    "df.head()"
   ]
  },
  {
   "cell_type": "code",
   "execution_count": 67,
   "metadata": {
    "ExecuteTime": {
     "end_time": "2023-09-22T04:36:10.826099Z",
     "start_time": "2023-09-22T04:36:10.619736Z"
    },
    "id": "zgQmxqNA3EIU"
   },
   "outputs": [],
   "source": [
    "df.dropna()\n",
    "#clean dataset to remove name, id, timestamp\n",
    "df=df.drop(['name','id','timestamp'],axis=1)\n",
    "\n",
    "#replace all NaN with 0\n",
    "df=df.fillna(0)\n"
   ]
  },
  {
   "cell_type": "code",
   "execution_count": 68,
   "metadata": {},
   "outputs": [
    {
     "name": "stdout",
     "output_type": "stream",
     "text": [
      "count of 0 in class label 33693\n",
      "count of 5 in class label 10147\n",
      "count of 105 in class label 318158\n"
     ]
    }
   ],
   "source": [
    "#count number of 0, 5 and 105 in class label\n",
    "print(\"count of 0 in class label\",len(df[df['class']==0])) # normal state\n",
    "print(\"count of 5 in class label\",len(df[df['class']==5]))  # warning state\n",
    "print(\"count of 105 in class label\",len(df[df['class']==105])) # abnormal state\n"
   ]
  },
  {
   "cell_type": "code",
   "execution_count": 69,
   "metadata": {},
   "outputs": [],
   "source": [
    "#split dataset into train and test\n",
    "from sklearn.model_selection import train_test_split\n",
    "X=df.drop(['class'],axis=1)\n",
    "y=df['class']\n",
    "X_train,X_test,y_train,y_test=train_test_split(X,y,test_size=0.2,random_state=42)"
   ]
  },
  {
   "cell_type": "markdown",
   "metadata": {},
   "source": [
    "### Generate Models"
   ]
  },
  {
   "cell_type": "markdown",
   "metadata": {},
   "source": [
    "#### Logistic Regression"
   ]
  },
  {
   "cell_type": "code",
   "execution_count": 70,
   "metadata": {},
   "outputs": [],
   "source": [
    "#train logistic regression model on training set against class label\n",
    "from sklearn.linear_model import LogisticRegression\n",
    "from sklearn.metrics import accuracy_score\n",
    "from sklearn.metrics import confusion_matrix\n",
    "from sklearn.metrics import classification_report\n",
    "\n",
    "#train model on training set\n",
    "log_reg=LogisticRegression(max_iter=1000)\n",
    "log_reg.fit(X_train,y_train)\n",
    "\n",
    "#predict class label on training set\n",
    "logreg_train_set_predictions=log_reg.predict(X_train)\n",
    "\n",
    "#test model on test set\n",
    "logreg_test_set_predictions=log_reg.predict(X_test)\n",
    "log_accuracy=accuracy_score(y_test,logreg_test_set_predictions)\n",
    "log_confusion_matrix=confusion_matrix(y_test,logreg_test_set_predictions)\n",
    "log_classification_report=classification_report(y_test,logreg_test_set_predictions)\n",
    "\n",
    "\n"
   ]
  },
  {
   "cell_type": "code",
   "execution_count": 71,
   "metadata": {},
   "outputs": [
    {
     "name": "stdout",
     "output_type": "stream",
     "text": [
      "log_accuracy\n",
      " 0.8598066298342542\n",
      "[[  402   415  5987]\n",
      " [    0   659  1324]\n",
      " [  867  1557 61189]]\n",
      "              precision    recall  f1-score   support\n",
      "\n",
      "         0.0       0.32      0.06      0.10      6804\n",
      "         5.0       0.25      0.33      0.29      1983\n",
      "       105.0       0.89      0.96      0.93     63613\n",
      "\n",
      "    accuracy                           0.86     72400\n",
      "   macro avg       0.49      0.45      0.44     72400\n",
      "weighted avg       0.82      0.86      0.83     72400\n",
      "\n",
      "log_accuracy = 86.0 %\n"
     ]
    }
   ],
   "source": [
    "print(\"log_accuracy\\n\",log_accuracy)\n",
    "print(log_confusion_matrix)\n",
    "print(log_classification_report)\n",
    "print(\"log_accuracy = %.1f\"%(log_accuracy*100),\"%\")\n"
   ]
  },
  {
   "cell_type": "markdown",
   "metadata": {},
   "source": [
    "#### Decision Tree"
   ]
  },
  {
   "cell_type": "code",
   "execution_count": 72,
   "metadata": {},
   "outputs": [],
   "source": [
    "#train decision tree regression model on training set against class label\n",
    "from sklearn.tree import DecisionTreeRegressor\n",
    "from sklearn.metrics import mean_squared_error\n",
    "import numpy as np\n",
    "\n",
    "#train model on training set\n",
    "dt_reg=DecisionTreeRegressor()\n",
    "dt_reg.fit(X_train,y_train)\n",
    "\n",
    "#predict class label on training set\n",
    "dectree_train_set_predictions=dt_reg.predict(X_train)\n",
    "\n",
    "#test model on test set\n",
    "dectree_test_set_predictions=dt_reg.predict(X_test)\n",
    "dt_mse=mean_squared_error(y_test,dectree_test_set_predictions)\n",
    "dt_rmse=np.sqrt(dt_mse)\n",
    "dt_accuracy=accuracy_score(y_test,dectree_test_set_predictions)\n",
    "dt_confusion_matrix=confusion_matrix(y_test,dectree_test_set_predictions)\n",
    "\n"
   ]
  },
  {
   "cell_type": "code",
   "execution_count": 73,
   "metadata": {},
   "outputs": [
    {
     "name": "stdout",
     "output_type": "stream",
     "text": [
      "dt_mse\n",
      " 0.7624309392265194\n",
      "dt_rmse\n",
      " 0.8731729148493552\n",
      "dt_accuracy\n",
      " 0.9998895027624309\n",
      "[[ 6799     2     3]\n",
      " [    1  1982     0]\n",
      " [    2     0 63611]]\n",
      "dt_accuracy = 100.0 %\n"
     ]
    }
   ],
   "source": [
    "print(\"dt_mse\\n\",dt_mse)\n",
    "print(\"dt_rmse\\n\",dt_rmse)\n",
    "print(\"dt_accuracy\\n\",dt_accuracy)\n",
    "print(dt_confusion_matrix)\n",
    "print(\"dt_accuracy = %.1f\"%(dt_accuracy*100),\"%\")\n"
   ]
  },
  {
   "cell_type": "code",
   "execution_count": 74,
   "metadata": {},
   "outputs": [
    {
     "name": "stdout",
     "output_type": "stream",
     "text": [
      "Requirement already satisfied: xgboost in /Users/dyllon/Library/Mobile Documents/com~apple~CloudDocs/Uni/BC2406/.venv/lib/python3.11/site-packages (2.0.0)\n",
      "Requirement already satisfied: numpy in /Users/dyllon/Library/Mobile Documents/com~apple~CloudDocs/Uni/BC2406/.venv/lib/python3.11/site-packages (from xgboost) (1.26.0)\n",
      "Requirement already satisfied: scipy in /Users/dyllon/Library/Mobile Documents/com~apple~CloudDocs/Uni/BC2406/.venv/lib/python3.11/site-packages (from xgboost) (1.11.2)\n",
      "Note: you may need to restart the kernel to use updated packages.\n"
     ]
    }
   ],
   "source": [
    "%pip install xgboost"
   ]
  },
  {
   "cell_type": "code",
   "execution_count": 75,
   "metadata": {},
   "outputs": [],
   "source": [
    "import xgboost as xgb\n",
    "\n"
   ]
  },
  {
   "cell_type": "code",
   "execution_count": 76,
   "metadata": {},
   "outputs": [],
   "source": [
    "le = LabelEncoder()\n",
    "y_trainLE = le.fit_transform(y_train)"
   ]
  },
  {
   "cell_type": "code",
   "execution_count": 77,
   "metadata": {},
   "outputs": [
    {
     "name": "stderr",
     "output_type": "stream",
     "text": [
      "/Users/dyllon/Library/Mobile Documents/com~apple~CloudDocs/Uni/BC2406/.venv/lib/python3.11/site-packages/xgboost/data.py:335: FutureWarning: is_sparse is deprecated and will be removed in a future version. Check `isinstance(dtype, pd.SparseDtype)` instead.\n",
      "  if is_sparse(dtype):\n",
      "/Users/dyllon/Library/Mobile Documents/com~apple~CloudDocs/Uni/BC2406/.venv/lib/python3.11/site-packages/xgboost/data.py:338: FutureWarning: is_categorical_dtype is deprecated and will be removed in a future version. Use isinstance(dtype, CategoricalDtype) instead\n",
      "  is_categorical_dtype(dtype) or is_pa_ext_categorical_dtype(dtype)\n",
      "/Users/dyllon/Library/Mobile Documents/com~apple~CloudDocs/Uni/BC2406/.venv/lib/python3.11/site-packages/xgboost/data.py:384: FutureWarning: is_categorical_dtype is deprecated and will be removed in a future version. Use isinstance(dtype, CategoricalDtype) instead\n",
      "  if is_categorical_dtype(dtype):\n",
      "/Users/dyllon/Library/Mobile Documents/com~apple~CloudDocs/Uni/BC2406/.venv/lib/python3.11/site-packages/xgboost/data.py:359: FutureWarning: is_categorical_dtype is deprecated and will be removed in a future version. Use isinstance(dtype, CategoricalDtype) instead\n",
      "  return is_int or is_bool or is_float or is_categorical_dtype(dtype)\n",
      "/Users/dyllon/Library/Mobile Documents/com~apple~CloudDocs/Uni/BC2406/.venv/lib/python3.11/site-packages/xgboost/data.py:335: FutureWarning: is_sparse is deprecated and will be removed in a future version. Check `isinstance(dtype, pd.SparseDtype)` instead.\n",
      "  if is_sparse(dtype):\n",
      "/Users/dyllon/Library/Mobile Documents/com~apple~CloudDocs/Uni/BC2406/.venv/lib/python3.11/site-packages/xgboost/data.py:338: FutureWarning: is_categorical_dtype is deprecated and will be removed in a future version. Use isinstance(dtype, CategoricalDtype) instead\n",
      "  is_categorical_dtype(dtype) or is_pa_ext_categorical_dtype(dtype)\n",
      "/Users/dyllon/Library/Mobile Documents/com~apple~CloudDocs/Uni/BC2406/.venv/lib/python3.11/site-packages/xgboost/data.py:384: FutureWarning: is_categorical_dtype is deprecated and will be removed in a future version. Use isinstance(dtype, CategoricalDtype) instead\n",
      "  if is_categorical_dtype(dtype):\n",
      "/Users/dyllon/Library/Mobile Documents/com~apple~CloudDocs/Uni/BC2406/.venv/lib/python3.11/site-packages/xgboost/data.py:359: FutureWarning: is_categorical_dtype is deprecated and will be removed in a future version. Use isinstance(dtype, CategoricalDtype) instead\n",
      "  return is_int or is_bool or is_float or is_categorical_dtype(dtype)\n",
      "/Users/dyllon/Library/Mobile Documents/com~apple~CloudDocs/Uni/BC2406/.venv/lib/python3.11/site-packages/xgboost/data.py:335: FutureWarning: is_sparse is deprecated and will be removed in a future version. Check `isinstance(dtype, pd.SparseDtype)` instead.\n",
      "  if is_sparse(dtype):\n",
      "/Users/dyllon/Library/Mobile Documents/com~apple~CloudDocs/Uni/BC2406/.venv/lib/python3.11/site-packages/xgboost/data.py:338: FutureWarning: is_categorical_dtype is deprecated and will be removed in a future version. Use isinstance(dtype, CategoricalDtype) instead\n",
      "  is_categorical_dtype(dtype) or is_pa_ext_categorical_dtype(dtype)\n",
      "/Users/dyllon/Library/Mobile Documents/com~apple~CloudDocs/Uni/BC2406/.venv/lib/python3.11/site-packages/xgboost/data.py:384: FutureWarning: is_categorical_dtype is deprecated and will be removed in a future version. Use isinstance(dtype, CategoricalDtype) instead\n",
      "  if is_categorical_dtype(dtype):\n",
      "/Users/dyllon/Library/Mobile Documents/com~apple~CloudDocs/Uni/BC2406/.venv/lib/python3.11/site-packages/xgboost/data.py:359: FutureWarning: is_categorical_dtype is deprecated and will be removed in a future version. Use isinstance(dtype, CategoricalDtype) instead\n",
      "  return is_int or is_bool or is_float or is_categorical_dtype(dtype)\n"
     ]
    }
   ],
   "source": [
    "xgb_reg=xgb.XGBRegressor()\n",
    "xgb_reg.fit(X_train,y_trainLE)\n",
    "\n",
    "#predict class label on training set\n",
    "xgb_train_set_predictions=xgb_reg.predict(X_train)\n",
    "\n",
    "#test model on test set\n",
    "y_pred=xgb_reg.predict(X_test)\n",
    "\n"
   ]
  },
  {
   "cell_type": "code",
   "execution_count": 78,
   "metadata": {},
   "outputs": [
    {
     "name": "stdout",
     "output_type": "stream",
     "text": [
      "xgb_accuracy\n",
      " 0.9994889502762431\n",
      "[[ 6791    13     0]\n",
      " [    0  1983     0]\n",
      " [    5    19 63589]]\n",
      "              precision    recall  f1-score   support\n",
      "\n",
      "         0.0       1.00      1.00      1.00      6804\n",
      "         5.0       0.98      1.00      0.99      1983\n",
      "       105.0       1.00      1.00      1.00     63613\n",
      "\n",
      "    accuracy                           1.00     72400\n",
      "   macro avg       0.99      1.00      1.00     72400\n",
      "weighted avg       1.00      1.00      1.00     72400\n",
      "\n"
     ]
    }
   ],
   "source": [
    "#train logistic regression model on training set against class label\n",
    "from sklearn.linear_model import LogisticRegression\n",
    "from sklearn.metrics import accuracy_score\n",
    "from sklearn.metrics import confusion_matrix\n",
    "from sklearn.metrics import classification_report\n",
    "\n",
    "#convert y_pred to 0,5,105\n",
    "y_pred=np.round(y_pred)\n",
    "y_pred=le.inverse_transform(y_pred.astype(int))\n",
    "\n",
    "xgb_accuracy=accuracy_score(y_test,y_pred)\n",
    "xgb_confusion_matrix=confusion_matrix(y_test,y_pred)\n",
    "xgb_classification_report=classification_report(y_test,y_pred)\n",
    "\n",
    "print(\"xgb_accuracy\\n\",xgb_accuracy)\n",
    "print(xgb_confusion_matrix)\n",
    "print(xgb_classification_report)\n"
   ]
  },
  {
   "cell_type": "code",
   "execution_count": 79,
   "metadata": {},
   "outputs": [],
   "source": [
    "# %pip install --no-build-isolation catboost"
   ]
  },
  {
   "cell_type": "markdown",
   "metadata": {},
   "source": [
    "CatBoost"
   ]
  },
  {
   "cell_type": "code",
   "execution_count": 80,
   "metadata": {},
   "outputs": [
    {
     "ename": "ModuleNotFoundError",
     "evalue": "No module named 'catboost'",
     "output_type": "error",
     "traceback": [
      "\u001b[0;31m---------------------------------------------------------------------------\u001b[0m",
      "\u001b[0;31mModuleNotFoundError\u001b[0m                       Traceback (most recent call last)",
      "\u001b[1;32m/Users/dyllon/Library/Mobile Documents/com~apple~CloudDocs/Uni/BC2406/oil/BC2406-2.ipynb Cell 37\u001b[0m line \u001b[0;36m1\n\u001b[0;32m----> <a href='vscode-notebook-cell:/Users/dyllon/Library/Mobile%20Documents/com~apple~CloudDocs/Uni/BC2406/oil/BC2406-2.ipynb#X45sZmlsZQ%3D%3D?line=0'>1</a>\u001b[0m \u001b[39mfrom\u001b[39;00m \u001b[39mcatboost\u001b[39;00m \u001b[39mimport\u001b[39;00m CatBoostRegressor\n",
      "\u001b[0;31mModuleNotFoundError\u001b[0m: No module named 'catboost'"
     ]
    }
   ],
   "source": [
    "from catboost import CatBoostRegressor\n"
   ]
  },
  {
   "cell_type": "code",
   "execution_count": null,
   "metadata": {},
   "outputs": [],
   "source": [
    "le = LabelEncoder()\n",
    "y_trainLE = le.fit_transform(y_train)"
   ]
  },
  {
   "cell_type": "code",
   "execution_count": null,
   "metadata": {},
   "outputs": [],
   "source": [
    "\n",
    "\n",
    "cat_reg=CatBoostRegressor()\n",
    "cat_reg.fit(X_train,y_trainLE)\n",
    "\n",
    "#predict class label on training set\n",
    "cat_train_set_predictions=cat_reg.predict(X_train)\n",
    "\n",
    "#test model on test set\n",
    "cat_test_set_predictions=cat_reg.predict(X_test)\n"
   ]
  },
  {
   "cell_type": "code",
   "execution_count": null,
   "metadata": {},
   "outputs": [],
   "source": [
    "#convert y_pred to 0,5,105\n",
    "cat_test_set_predictions=np.round(cat_test_set_predictions)\n",
    "cat_test_set_predictions=le.inverse_transform(cat_test_set_predictions.astype(int))\n",
    "\n",
    "cat_accuracy=accuracy_score(y_test,cat_test_set_predictions)\n",
    "cat_confusion_matrix=confusion_matrix(y_test,cat_test_set_predictions)\n",
    "\n",
    "print(\"cat_accuracy\\n\",cat_accuracy)\n",
    "print(cat_confusion_matrix)\n",
    "print(xgb_classification_report)"
   ]
  },
  {
   "cell_type": "markdown",
   "metadata": {},
   "source": [
    "LightGBM"
   ]
  },
  {
   "cell_type": "code",
   "execution_count": null,
   "metadata": {},
   "outputs": [
    {
     "name": "stdout",
     "output_type": "stream",
     "text": [
      "Collecting lightgbm\n",
      "  Obtaining dependency information for lightgbm from https://files.pythonhosted.org/packages/56/f3/6f77fe5fa45722582e52efc2833288fa670abfbec57eea433e83820f5b90/lightgbm-4.1.0-py3-none-macosx_10_15_x86_64.macosx_11_6_x86_64.macosx_12_5_x86_64.whl.metadata\n",
      "  Downloading lightgbm-4.1.0-py3-none-macosx_10_15_x86_64.macosx_11_6_x86_64.macosx_12_5_x86_64.whl.metadata (19 kB)\n",
      "Requirement already satisfied: numpy in /Users/dyllon/Library/Mobile Documents/com~apple~CloudDocs/Uni/BC2406/.venv/lib/python3.11/site-packages (from lightgbm) (1.26.0)\n",
      "Requirement already satisfied: scipy in /Users/dyllon/Library/Mobile Documents/com~apple~CloudDocs/Uni/BC2406/.venv/lib/python3.11/site-packages (from lightgbm) (1.11.2)\n",
      "Downloading lightgbm-4.1.0-py3-none-macosx_10_15_x86_64.macosx_11_6_x86_64.macosx_12_5_x86_64.whl (1.7 MB)\n",
      "\u001b[2K   \u001b[90m━━━━━━━━━━━━━━━━━━━━━━━━━━━━━━━━━━━━━━━━\u001b[0m \u001b[32m1.7/1.7 MB\u001b[0m \u001b[31m9.5 MB/s\u001b[0m eta \u001b[36m0:00:00\u001b[0m:00:01\u001b[0m00:01\u001b[0m\n",
      "\u001b[?25hInstalling collected packages: lightgbm\n",
      "Successfully installed lightgbm-4.1.0\n",
      "Note: you may need to restart the kernel to use updated packages.\n"
     ]
    }
   ],
   "source": [
    "%pip install --upgrade lightgbm"
   ]
  },
  {
   "cell_type": "code",
   "execution_count": null,
   "metadata": {},
   "outputs": [],
   "source": [
    "import lightgbm as lgb\n"
   ]
  },
  {
   "cell_type": "code",
   "execution_count": null,
   "metadata": {},
   "outputs": [
    {
     "name": "stdout",
     "output_type": "stream",
     "text": [
      "[LightGBM] [Info] Auto-choosing row-wise multi-threading, the overhead of testing was 0.004288 seconds.\n",
      "You can set `force_row_wise=true` to remove the overhead.\n",
      "And if memory is not enough, you can set `force_col_wise=true`.\n",
      "[LightGBM] [Info] Total Bins 1785\n",
      "[LightGBM] [Info] Number of data points in the train set: 289598, number of used features: 7\n",
      "[LightGBM] [Info] Start training from score -2.376776\n",
      "[LightGBM] [Info] Start training from score -3.568760\n",
      "[LightGBM] [Info] Start training from score -0.129016\n",
      "[LightGBM] [Warning] No further splits with positive gain, best gain: -inf\n"
     ]
    }
   ],
   "source": [
    "#train lightgbm regression model on training set against class label\n",
    "\n",
    "\n",
    "lgb_reg=lgb.LGBMClassifier()\n",
    "lgb_reg.fit(X_train,y_train)\n",
    "\n",
    "#predict class label on training set\n",
    "lgb_train_set_predictions=lgb_reg.predict(X_train)\n",
    "\n",
    "#test model on test set\n",
    "lgb_test_set_predictions=lgb_reg.predict(X_test)\n",
    "\n",
    "\n",
    "\n"
   ]
  },
  {
   "cell_type": "code",
   "execution_count": null,
   "metadata": {},
   "outputs": [],
   "source": []
  },
  {
   "cell_type": "code",
   "execution_count": null,
   "metadata": {},
   "outputs": [
    {
     "name": "stdout",
     "output_type": "stream",
     "text": [
      "lgb_accuracy\n",
      " 0.9996823204419889\n",
      "[[ 6790     7     7]\n",
      " [    1  1982     0]\n",
      " [    8     0 63605]]\n"
     ]
    },
    {
     "ename": "NameError",
     "evalue": "name 'xgb_classification_report' is not defined",
     "output_type": "error",
     "traceback": [
      "\u001b[0;31m---------------------------------------------------------------------------\u001b[0m",
      "\u001b[0;31mNameError\u001b[0m                                 Traceback (most recent call last)",
      "\u001b[1;32m/Users/dyllon/Library/Mobile Documents/com~apple~CloudDocs/Uni/BC2406/oil/BC2406-2.ipynb Cell 44\u001b[0m line \u001b[0;36m7\n\u001b[1;32m      <a href='vscode-notebook-cell:/Users/dyllon/Library/Mobile%20Documents/com~apple~CloudDocs/Uni/BC2406/oil/BC2406-2.ipynb#X60sZmlsZQ%3D%3D?line=4'>5</a>\u001b[0m \u001b[39mprint\u001b[39m(\u001b[39m\"\u001b[39m\u001b[39mlgb_accuracy\u001b[39m\u001b[39m\\n\u001b[39;00m\u001b[39m\"\u001b[39m,lgb_accuracy)\n\u001b[1;32m      <a href='vscode-notebook-cell:/Users/dyllon/Library/Mobile%20Documents/com~apple~CloudDocs/Uni/BC2406/oil/BC2406-2.ipynb#X60sZmlsZQ%3D%3D?line=5'>6</a>\u001b[0m \u001b[39mprint\u001b[39m(lgb_confusion_matrix)\n\u001b[0;32m----> <a href='vscode-notebook-cell:/Users/dyllon/Library/Mobile%20Documents/com~apple~CloudDocs/Uni/BC2406/oil/BC2406-2.ipynb#X60sZmlsZQ%3D%3D?line=6'>7</a>\u001b[0m \u001b[39mprint\u001b[39m(xgb_classification_report)\n",
      "\u001b[0;31mNameError\u001b[0m: name 'xgb_classification_report' is not defined"
     ]
    }
   ],
   "source": [
    "\n",
    "lgb_accuracy=accuracy_score(y_test,lgb_test_set_predictions)\n",
    "lgb_confusion_matrix=confusion_matrix(y_test,lgb_test_set_predictions)\n",
    "lgb_classification_report=classification_report(y_test,lgb_test_set_predictions)\n",
    "\n",
    "print(\"lgb_accuracy\\n\",lgb_accuracy)\n",
    "print(lgb_confusion_matrix)\n",
    "print(xgb_classification_report)"
   ]
  },
  {
   "cell_type": "code",
   "execution_count": null,
   "metadata": {},
   "outputs": [],
   "source": []
  },
  {
   "cell_type": "markdown",
   "metadata": {},
   "source": [
    "### Compare Models"
   ]
  },
  {
   "cell_type": "code",
   "execution_count": null,
   "metadata": {},
   "outputs": [],
   "source": [
    "# compare both models with f1 score\n",
    "from sklearn.metrics import f1_score\n",
    "\n",
    "# calculate F1 scores for both models\n",
    "logreg_f1 = f1_score(y_test, logreg_test_set_predictions, average='weighted')\n",
    "dectree_f1 = f1_score(y_test, dectree_test_set_predictions, average='weighted')\n",
    "\n",
    "# print\n",
    "print(\"F1 scores:\")\n",
    "print(\"Logistic Regression: \", logreg_f1)\n",
    "print(\"Decision Tree Regressor: \", dectree_f1)\n",
    "\n",
    "# compare F1 scores\n",
    "if logreg_f1 > dectree_f1:\n",
    "    print(\"Logistic Regression has a higher F1 score.\")\n",
    "elif logreg_f1 < dectree_f1:\n",
    "    print(\"Decision Tree has a higher F1 score.\")\n",
    "else:\n",
    "    print(\"Both models have the same F1 score.\")\n",
    "\n",
    "\n"
   ]
  },
  {
   "cell_type": "code",
   "execution_count": null,
   "metadata": {},
   "outputs": [],
   "source": []
  },
  {
   "cell_type": "markdown",
   "metadata": {},
   "source": [
    "## Dataset 7"
   ]
  },
  {
   "cell_type": "markdown",
   "metadata": {},
   "source": [
    "### Data Handling"
   ]
  },
  {
   "cell_type": "code",
   "execution_count": null,
   "metadata": {},
   "outputs": [
    {
     "name": "stdout",
     "output_type": "stream",
     "text": [
      "['/Users/dyllon/Library/Mobile Documents/com~apple~CloudDocs/Uni/BC2406/oil/data/7/WELL-00006_20180620181348.csv', '/Users/dyllon/Library/Mobile Documents/com~apple~CloudDocs/Uni/BC2406/oil/data/7/WELL-00006_20180618110721.csv', '/Users/dyllon/Library/Mobile Documents/com~apple~CloudDocs/Uni/BC2406/oil/data/7/WELL-00001_20170226220309.csv', '/Users/dyllon/Library/Mobile Documents/com~apple~CloudDocs/Uni/BC2406/oil/data/7/WELL-00018_20180611040207.csv']\n",
      "WELL-00006\n",
      "WELL-00001\n",
      "WELL-00018\n"
     ]
    },
    {
     "data": {
      "text/html": [
       "<div>\n",
       "<style scoped>\n",
       "    .dataframe tbody tr th:only-of-type {\n",
       "        vertical-align: middle;\n",
       "    }\n",
       "\n",
       "    .dataframe tbody tr th {\n",
       "        vertical-align: top;\n",
       "    }\n",
       "\n",
       "    .dataframe thead th {\n",
       "        text-align: right;\n",
       "    }\n",
       "</style>\n",
       "<table border=\"1\" class=\"dataframe\">\n",
       "  <thead>\n",
       "    <tr style=\"text-align: right;\">\n",
       "      <th></th>\n",
       "      <th>name</th>\n",
       "      <th>id</th>\n",
       "      <th>timestamp</th>\n",
       "      <th>P-PDG</th>\n",
       "      <th>P-TPT</th>\n",
       "      <th>T-TPT</th>\n",
       "      <th>P-MON-CKP</th>\n",
       "      <th>T-JUS-CKP</th>\n",
       "      <th>P-JUS-CKGL</th>\n",
       "      <th>T-JUS-CKGL</th>\n",
       "      <th>QGL</th>\n",
       "      <th>class</th>\n",
       "    </tr>\n",
       "  </thead>\n",
       "  <tbody>\n",
       "    <tr>\n",
       "      <th>0</th>\n",
       "      <td>WELL-00006</td>\n",
       "      <td>20180620181348</td>\n",
       "      <td>2018-06-20 18:13:48.000000</td>\n",
       "      <td>-1.180116e+42</td>\n",
       "      <td>21125440.0</td>\n",
       "      <td>117.6264</td>\n",
       "      <td>12038980.0</td>\n",
       "      <td>65.97606</td>\n",
       "      <td>1627220.0</td>\n",
       "      <td>NaN</td>\n",
       "      <td>0.0</td>\n",
       "      <td>0.0</td>\n",
       "    </tr>\n",
       "    <tr>\n",
       "      <th>1</th>\n",
       "      <td>WELL-00006</td>\n",
       "      <td>20180620181348</td>\n",
       "      <td>2018-06-20 18:13:49.000000</td>\n",
       "      <td>-1.180116e+42</td>\n",
       "      <td>21125550.0</td>\n",
       "      <td>117.6270</td>\n",
       "      <td>12039360.0</td>\n",
       "      <td>65.97627</td>\n",
       "      <td>1627243.0</td>\n",
       "      <td>NaN</td>\n",
       "      <td>0.0</td>\n",
       "      <td>0.0</td>\n",
       "    </tr>\n",
       "    <tr>\n",
       "      <th>2</th>\n",
       "      <td>WELL-00006</td>\n",
       "      <td>20180620181348</td>\n",
       "      <td>2018-06-20 18:13:50.000000</td>\n",
       "      <td>-1.180116e+42</td>\n",
       "      <td>21125650.0</td>\n",
       "      <td>117.6277</td>\n",
       "      <td>12039750.0</td>\n",
       "      <td>65.97648</td>\n",
       "      <td>1627266.0</td>\n",
       "      <td>NaN</td>\n",
       "      <td>0.0</td>\n",
       "      <td>0.0</td>\n",
       "    </tr>\n",
       "    <tr>\n",
       "      <th>3</th>\n",
       "      <td>WELL-00006</td>\n",
       "      <td>20180620181348</td>\n",
       "      <td>2018-06-20 18:13:51.000000</td>\n",
       "      <td>-1.180116e+42</td>\n",
       "      <td>21125760.0</td>\n",
       "      <td>117.6283</td>\n",
       "      <td>12040130.0</td>\n",
       "      <td>65.97669</td>\n",
       "      <td>1627290.0</td>\n",
       "      <td>NaN</td>\n",
       "      <td>0.0</td>\n",
       "      <td>0.0</td>\n",
       "    </tr>\n",
       "    <tr>\n",
       "      <th>4</th>\n",
       "      <td>WELL-00006</td>\n",
       "      <td>20180620181348</td>\n",
       "      <td>2018-06-20 18:13:52.000000</td>\n",
       "      <td>-1.180116e+42</td>\n",
       "      <td>21125860.0</td>\n",
       "      <td>117.6290</td>\n",
       "      <td>12040520.0</td>\n",
       "      <td>65.97691</td>\n",
       "      <td>1627313.0</td>\n",
       "      <td>NaN</td>\n",
       "      <td>0.0</td>\n",
       "      <td>0.0</td>\n",
       "    </tr>\n",
       "    <tr>\n",
       "      <th>...</th>\n",
       "      <td>...</td>\n",
       "      <td>...</td>\n",
       "      <td>...</td>\n",
       "      <td>...</td>\n",
       "      <td>...</td>\n",
       "      <td>...</td>\n",
       "      <td>...</td>\n",
       "      <td>...</td>\n",
       "      <td>...</td>\n",
       "      <td>...</td>\n",
       "      <td>...</td>\n",
       "      <td>...</td>\n",
       "    </tr>\n",
       "    <tr>\n",
       "      <th>271703</th>\n",
       "      <td>WELL-00018</td>\n",
       "      <td>20180611040207</td>\n",
       "      <td>2018-06-11 12:58:09.000000</td>\n",
       "      <td>0.000000e+00</td>\n",
       "      <td>8721603.0</td>\n",
       "      <td>109.4972</td>\n",
       "      <td>2195037.0</td>\n",
       "      <td>68.44791</td>\n",
       "      <td>8454861.0</td>\n",
       "      <td>NaN</td>\n",
       "      <td>0.0</td>\n",
       "      <td>107.0</td>\n",
       "    </tr>\n",
       "    <tr>\n",
       "      <th>271704</th>\n",
       "      <td>WELL-00018</td>\n",
       "      <td>20180611040207</td>\n",
       "      <td>2018-06-11 12:58:10.000000</td>\n",
       "      <td>0.000000e+00</td>\n",
       "      <td>8721549.0</td>\n",
       "      <td>109.4979</td>\n",
       "      <td>2195037.0</td>\n",
       "      <td>68.44791</td>\n",
       "      <td>8454861.0</td>\n",
       "      <td>NaN</td>\n",
       "      <td>0.0</td>\n",
       "      <td>107.0</td>\n",
       "    </tr>\n",
       "    <tr>\n",
       "      <th>271705</th>\n",
       "      <td>WELL-00018</td>\n",
       "      <td>20180611040207</td>\n",
       "      <td>2018-06-11 12:58:11.000000</td>\n",
       "      <td>0.000000e+00</td>\n",
       "      <td>8721495.0</td>\n",
       "      <td>109.4987</td>\n",
       "      <td>2195037.0</td>\n",
       "      <td>68.44791</td>\n",
       "      <td>8454861.0</td>\n",
       "      <td>NaN</td>\n",
       "      <td>0.0</td>\n",
       "      <td>107.0</td>\n",
       "    </tr>\n",
       "    <tr>\n",
       "      <th>271706</th>\n",
       "      <td>WELL-00018</td>\n",
       "      <td>20180611040207</td>\n",
       "      <td>2018-06-11 12:58:12.000000</td>\n",
       "      <td>0.000000e+00</td>\n",
       "      <td>8721441.0</td>\n",
       "      <td>109.4994</td>\n",
       "      <td>2195037.0</td>\n",
       "      <td>68.44791</td>\n",
       "      <td>8454861.0</td>\n",
       "      <td>NaN</td>\n",
       "      <td>0.0</td>\n",
       "      <td>107.0</td>\n",
       "    </tr>\n",
       "    <tr>\n",
       "      <th>271707</th>\n",
       "      <td>WELL-00018</td>\n",
       "      <td>20180611040207</td>\n",
       "      <td>2018-06-11 12:58:13.000000</td>\n",
       "      <td>0.000000e+00</td>\n",
       "      <td>8721387.0</td>\n",
       "      <td>109.5001</td>\n",
       "      <td>2195037.0</td>\n",
       "      <td>68.44791</td>\n",
       "      <td>8454861.0</td>\n",
       "      <td>NaN</td>\n",
       "      <td>0.0</td>\n",
       "      <td>107.0</td>\n",
       "    </tr>\n",
       "  </tbody>\n",
       "</table>\n",
       "<p>271708 rows × 12 columns</p>\n",
       "</div>"
      ],
      "text/plain": [
       "              name              id                   timestamp         P-PDG  \\\n",
       "0       WELL-00006  20180620181348  2018-06-20 18:13:48.000000 -1.180116e+42   \n",
       "1       WELL-00006  20180620181348  2018-06-20 18:13:49.000000 -1.180116e+42   \n",
       "2       WELL-00006  20180620181348  2018-06-20 18:13:50.000000 -1.180116e+42   \n",
       "3       WELL-00006  20180620181348  2018-06-20 18:13:51.000000 -1.180116e+42   \n",
       "4       WELL-00006  20180620181348  2018-06-20 18:13:52.000000 -1.180116e+42   \n",
       "...            ...             ...                         ...           ...   \n",
       "271703  WELL-00018  20180611040207  2018-06-11 12:58:09.000000  0.000000e+00   \n",
       "271704  WELL-00018  20180611040207  2018-06-11 12:58:10.000000  0.000000e+00   \n",
       "271705  WELL-00018  20180611040207  2018-06-11 12:58:11.000000  0.000000e+00   \n",
       "271706  WELL-00018  20180611040207  2018-06-11 12:58:12.000000  0.000000e+00   \n",
       "271707  WELL-00018  20180611040207  2018-06-11 12:58:13.000000  0.000000e+00   \n",
       "\n",
       "             P-TPT     T-TPT   P-MON-CKP  T-JUS-CKP  P-JUS-CKGL  T-JUS-CKGL  \\\n",
       "0       21125440.0  117.6264  12038980.0   65.97606   1627220.0         NaN   \n",
       "1       21125550.0  117.6270  12039360.0   65.97627   1627243.0         NaN   \n",
       "2       21125650.0  117.6277  12039750.0   65.97648   1627266.0         NaN   \n",
       "3       21125760.0  117.6283  12040130.0   65.97669   1627290.0         NaN   \n",
       "4       21125860.0  117.6290  12040520.0   65.97691   1627313.0         NaN   \n",
       "...            ...       ...         ...        ...         ...         ...   \n",
       "271703   8721603.0  109.4972   2195037.0   68.44791   8454861.0         NaN   \n",
       "271704   8721549.0  109.4979   2195037.0   68.44791   8454861.0         NaN   \n",
       "271705   8721495.0  109.4987   2195037.0   68.44791   8454861.0         NaN   \n",
       "271706   8721441.0  109.4994   2195037.0   68.44791   8454861.0         NaN   \n",
       "271707   8721387.0  109.5001   2195037.0   68.44791   8454861.0         NaN   \n",
       "\n",
       "        QGL  class  \n",
       "0       0.0    0.0  \n",
       "1       0.0    0.0  \n",
       "2       0.0    0.0  \n",
       "3       0.0    0.0  \n",
       "4       0.0    0.0  \n",
       "...     ...    ...  \n",
       "271703  0.0  107.0  \n",
       "271704  0.0  107.0  \n",
       "271705  0.0  107.0  \n",
       "271706  0.0  107.0  \n",
       "271707  0.0  107.0  \n",
       "\n",
       "[271708 rows x 12 columns]"
      ]
     },
     "execution_count": 48,
     "metadata": {},
     "output_type": "execute_result"
    }
   ],
   "source": [
    "import glob\n",
    "import os\n",
    "import pandas as pd\n",
    "\n",
    "#import csv files\n",
    "# print(csv_files)\n",
    "path=os.path.join(os.getcwd(),'data','7')\n",
    "csv_files=glob.glob(path + \"/*.csv\")\n",
    "\n",
    "#remove BC2406.ipynb from csv_files\n",
    "# csv_files.remove('BC2406.ipynb')\n",
    "\n",
    "# remove all files whose file name (not path) starts with SIMULATED\n",
    "csv_files=[csv_file for csv_file in csv_files if not os.path.basename(csv_file).startswith('DRAWN')]\n",
    "\n",
    "dataframes={}\n",
    "\n",
    "print(csv_files)\n",
    "for csv_file in csv_files:\n",
    "  # print(csv_file)\n",
    "  well_name=os.path.splitext(csv_file)[0]\n",
    "  # print(\"file path\")\n",
    "  # print(os.path.join(csv_directory,csv_file))\n",
    "  df=pd.read_csv(csv_file)\n",
    "  dataframes[well_name]=df\n",
    "\n",
    "for well_name,df in dataframes.items():\n",
    "  df.insert(0,'name',well_name.split('_')[0].split('/')[-1])\n",
    "  df.insert(1,'id',well_name.split('_')[1])\n",
    "\n",
    "df=pd.concat(dataframes.values(),ignore_index=True)\n",
    "\n",
    "distinct_wells=df['name'].unique()\n",
    "for name in distinct_wells:\n",
    "  print(name)\n",
    "\n",
    "df"
   ]
  },
  {
   "cell_type": "code",
   "execution_count": null,
   "metadata": {},
   "outputs": [
    {
     "name": "stdout",
     "output_type": "stream",
     "text": [
      "Empty DataFrame\n",
      "Columns: [P-PDG, P-TPT, T-TPT, P-MON-CKP, T-JUS-CKP, P-JUS-CKGL, QGL, class]\n",
      "Index: []\n"
     ]
    }
   ],
   "source": [
    "df.dropna()\n",
    "#clean dataset to remove name, id, timestamp\n",
    "df=df.drop(['name','id','timestamp', 'T-JUS-CKGL'],axis=1)\n",
    "\n",
    "#replace all NaN with 0\n",
    "# df=df.fillna(0)\n",
    "\n",
    "# drop all rows with class NaN\n",
    "df=df.dropna(subset=['class'])\n",
    "\n",
    "# print NaN in any column\n",
    "\n",
    "# drop all rows where P-PDG is NaN\n",
    "df=df.dropna(subset=['P-PDG'])\n",
    "\n",
    "print(df[df.isna().any(axis=1)])\n",
    "\n"
   ]
  },
  {
   "cell_type": "code",
   "execution_count": null,
   "metadata": {},
   "outputs": [
    {
     "name": "stdout",
     "output_type": "stream",
     "text": [
      "[  0. 107.   7.]\n",
      "Empty DataFrame\n",
      "Columns: [P-PDG, P-TPT, T-TPT, P-MON-CKP, T-JUS-CKP, P-JUS-CKGL, QGL, class]\n",
      "Index: []\n",
      "count of 0 in class label:  12526\n",
      "count of NaN in class label:  0\n",
      "count of 7 in class label:  821\n",
      "count of 107 in class label:  257366\n"
     ]
    }
   ],
   "source": [
    "# show all values in column class\n",
    "print(df['class'].unique())\n",
    "\n",
    "# print 5 rows where class = NaN\n",
    "print(df[df['class'].isna()].head())\n",
    "\n",
    "#count number of 0, 3 in class label\n",
    "print(\"count of 0 in class label: \",len(df[df['class']==0])) # normal state\n",
    "print(\"count of NaN in class label: \",len(df[df['class'].isna()])) # normal state\n",
    "print(\"count of 7 in class label: \",len(df[df['class']==7]))  # warning state\n",
    "print(\"count of 107 in class label: \",len(df[df['class']==107]))  # error state\n"
   ]
  },
  {
   "cell_type": "code",
   "execution_count": null,
   "metadata": {},
   "outputs": [],
   "source": [
    "#split dataset into train and test\n",
    "from sklearn.model_selection import train_test_split\n",
    "X=df.drop(['class'],axis=1)\n",
    "y=df['class']\n",
    "X_train,X_test,y_train,y_test=train_test_split(X,y,test_size=0.2,random_state=42)"
   ]
  },
  {
   "cell_type": "markdown",
   "metadata": {},
   "source": [
    "### Generate Models"
   ]
  },
  {
   "cell_type": "markdown",
   "metadata": {},
   "source": [
    "#### Logistic Regression"
   ]
  },
  {
   "cell_type": "code",
   "execution_count": null,
   "metadata": {},
   "outputs": [],
   "source": [
    "#train logistic regression model on training set against class label\n",
    "from sklearn.linear_model import LogisticRegression\n",
    "from sklearn.metrics import accuracy_score\n",
    "from sklearn.metrics import confusion_matrix\n",
    "from sklearn.metrics import classification_report\n",
    "from sklearn.preprocessing import StandardScaler\n",
    "\n",
    "# scale the data\n",
    "scaler = StandardScaler()\n",
    "X_train_scaled = scaler.fit_transform(X_train)\n",
    "X_test_scaled = scaler.transform(X_test)\n",
    "\n",
    "#train model on training set\n",
    "log_reg=LogisticRegression(max_iter=100000)\n",
    "log_reg.fit(X_train_scaled,y_train)\n",
    "\n",
    "#predict class label on training set\n",
    "logreg_train_set_predictions=log_reg.predict(X_train_scaled)\n",
    "\n",
    "#test model on test set\n",
    "logreg_test_set_predictions=log_reg.predict(X_test_scaled)\n",
    "log_accuracy=accuracy_score(y_test,logreg_test_set_predictions)\n",
    "log_confusion_matrix=confusion_matrix(y_test,logreg_test_set_predictions)\n",
    "log_classification_report=classification_report(y_test,logreg_test_set_predictions)\n"
   ]
  },
  {
   "cell_type": "code",
   "execution_count": null,
   "metadata": {},
   "outputs": [],
   "source": [
    "print(\"log_accuracy\\n\",log_accuracy)\n",
    "print(log_confusion_matrix)\n",
    "print(log_classification_report)\n",
    "print(\"log_accuracy = %.1f\"%(log_accuracy*100),\"%\")"
   ]
  },
  {
   "cell_type": "markdown",
   "metadata": {},
   "source": []
  },
  {
   "cell_type": "markdown",
   "metadata": {},
   "source": [
    "#### Decision Tree"
   ]
  },
  {
   "cell_type": "code",
   "execution_count": null,
   "metadata": {},
   "outputs": [],
   "source": [
    "#train decision tree regression model on training set against class label\n",
    "from sklearn.tree import DecisionTreeRegressor\n",
    "from sklearn.metrics import mean_squared_error\n",
    "\n",
    "X_train = np.nan_to_num(X_train.astype(np.float64))\n",
    "X_test = np.nan_to_num(X_test.astype(np.float64))\n",
    "\n",
    "# check for infinite or NaN values in X_train and X_test\n",
    "if not np.isfinite(X_train).all() or not np.isfinite(X_test).all():\n",
    "    print(\"Input data contains infinite or NaN values.\")\n",
    "\n",
    "#train model on training set\n",
    "dt_reg=DecisionTreeRegressor()\n",
    "dt_reg.fit(X_train,y_train)\n",
    "\n",
    "#predict class label on training set\n",
    "dectree_train_set_predictions=dt_reg.predict(X_train)\n",
    "\n",
    "#test model on test set\n",
    "dectree_test_set_predictions=dt_reg.predict(X_test)\n",
    "dt_mse=mean_squared_error(y_test,dectree_test_set_predictions)\n",
    "dt_rmse=np.sqrt(dt_mse)\n",
    "dt_accuracy=accuracy_score(y_test,dectree_test_set_predictions)\n",
    "dt_confusion_matrix=confusion_matrix(y_test,dectree_test_set_predictions)\n"
   ]
  },
  {
   "cell_type": "code",
   "execution_count": null,
   "metadata": {},
   "outputs": [],
   "source": [
    "print(\"dt_mse\\n\",dt_mse)\n",
    "print(\"dt_rmse\\n\",dt_rmse)\n",
    "print(\"dt_accuracy\\n\",dt_accuracy)\n",
    "print(dt_confusion_matrix)\n",
    "print(\"dt_accuracy = %.1f\"%(dt_accuracy*100),\"%\")\n"
   ]
  },
  {
   "cell_type": "code",
   "execution_count": null,
   "metadata": {},
   "outputs": [],
   "source": [
    "import xgboost as xgb"
   ]
  },
  {
   "cell_type": "code",
   "execution_count": null,
   "metadata": {},
   "outputs": [],
   "source": [
    "le = LabelEncoder()\n",
    "y_trainLE = le.fit_transform(y_train)\n",
    "xgb_reg=xgb.XGBRegressor()\n",
    "xgb_reg.fit(X_train,y_trainLE) # this gives me error help\n",
    "\n",
    "#predict class label on training set\n",
    "xgb_train_set_predictions=xgb_reg.predict(X_train)\n",
    "\n",
    "#test model on test set\n",
    "y_pred=xgb_reg.predict(X_test)\n"
   ]
  },
  {
   "cell_type": "code",
   "execution_count": null,
   "metadata": {},
   "outputs": [],
   "source": [
    "\n",
    "\n"
   ]
  },
  {
   "cell_type": "code",
   "execution_count": null,
   "metadata": {},
   "outputs": [
    {
     "ename": "NameError",
     "evalue": "name 'y_pred' is not defined",
     "output_type": "error",
     "traceback": [
      "\u001b[0;31m---------------------------------------------------------------------------\u001b[0m",
      "\u001b[0;31mNameError\u001b[0m                                 Traceback (most recent call last)",
      "\u001b[1;32m/Users/dyllon/Library/Mobile Documents/com~apple~CloudDocs/Uni/BC2406/oil/BC2406-2.ipynb Cell 67\u001b[0m line \u001b[0;36m8\n\u001b[1;32m      <a href='vscode-notebook-cell:/Users/dyllon/Library/Mobile%20Documents/com~apple~CloudDocs/Uni/BC2406/oil/BC2406-2.ipynb#Y131sZmlsZQ%3D%3D?line=4'>5</a>\u001b[0m \u001b[39mfrom\u001b[39;00m \u001b[39msklearn\u001b[39;00m\u001b[39m.\u001b[39;00m\u001b[39mmetrics\u001b[39;00m \u001b[39mimport\u001b[39;00m classification_report\n\u001b[1;32m      <a href='vscode-notebook-cell:/Users/dyllon/Library/Mobile%20Documents/com~apple~CloudDocs/Uni/BC2406/oil/BC2406-2.ipynb#Y131sZmlsZQ%3D%3D?line=6'>7</a>\u001b[0m \u001b[39m#convert y_pred to 0,5,105\u001b[39;00m\n\u001b[0;32m----> <a href='vscode-notebook-cell:/Users/dyllon/Library/Mobile%20Documents/com~apple~CloudDocs/Uni/BC2406/oil/BC2406-2.ipynb#Y131sZmlsZQ%3D%3D?line=7'>8</a>\u001b[0m y_pred\u001b[39m=\u001b[39mnp\u001b[39m.\u001b[39mround(y_pred)\n\u001b[1;32m      <a href='vscode-notebook-cell:/Users/dyllon/Library/Mobile%20Documents/com~apple~CloudDocs/Uni/BC2406/oil/BC2406-2.ipynb#Y131sZmlsZQ%3D%3D?line=8'>9</a>\u001b[0m y_pred\u001b[39m=\u001b[39mle\u001b[39m.\u001b[39minverse_transform(y_pred\u001b[39m.\u001b[39mastype(\u001b[39mint\u001b[39m))\n\u001b[1;32m     <a href='vscode-notebook-cell:/Users/dyllon/Library/Mobile%20Documents/com~apple~CloudDocs/Uni/BC2406/oil/BC2406-2.ipynb#Y131sZmlsZQ%3D%3D?line=10'>11</a>\u001b[0m xgb_accuracy\u001b[39m=\u001b[39maccuracy_score(y_test,y_pred)\n",
      "\u001b[0;31mNameError\u001b[0m: name 'y_pred' is not defined"
     ]
    }
   ],
   "source": [
    "#train logistic regression model on training set against class label\n",
    "from sklearn.linear_model import LogisticRegression\n",
    "from sklearn.metrics import accuracy_score\n",
    "from sklearn.metrics import confusion_matrix\n",
    "from sklearn.metrics import classification_report\n",
    "\n",
    "#convert y_pred to 0,5,105\n",
    "y_pred=np.round(y_pred)\n",
    "y_pred=le.inverse_transform(y_pred.astype(int))\n",
    "\n",
    "xgb_accuracy=accuracy_score(y_test,y_pred)\n",
    "xgb_confusion_matrix=confusion_matrix(y_test,y_pred)\n",
    "xgb_classification_report=classification_report(y_test,y_pred)\n",
    "\n",
    "print(\"xgb_accuracy\\n\",xgb_accuracy)\n",
    "print(xgb_confusion_matrix)\n",
    "print(xgb_classification_report)"
   ]
  },
  {
   "cell_type": "markdown",
   "metadata": {},
   "source": [
    "## Review"
   ]
  },
  {
   "cell_type": "code",
   "execution_count": null,
   "metadata": {},
   "outputs": [],
   "source": [
    "print()"
   ]
  }
 ],
 "metadata": {
  "colab": {
   "provenance": []
  },
  "kernelspec": {
   "display_name": "Python 3 (ipykernel)",
   "language": "python",
   "name": "python3"
  },
  "language_info": {
   "codemirror_mode": {
    "name": "ipython",
    "version": 3
   },
   "file_extension": ".py",
   "mimetype": "text/x-python",
   "name": "python",
   "nbconvert_exporter": "python",
   "pygments_lexer": "ipython3",
   "version": "3.11.4"
  }
 },
 "nbformat": 4,
 "nbformat_minor": 0
}
